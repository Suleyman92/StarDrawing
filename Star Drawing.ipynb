{
 "cells": [
  {
   "cell_type": "code",
   "execution_count": 1,
   "id": "063377a0-e5a8-4fb4-9040-9616c76fe652",
   "metadata": {},
   "outputs": [],
   "source": [
    "import turtle\n",
    "\n",
    "board = turtle.Turtle()\n",
    "\n",
    "board.forward(100)\n",
    "\n",
    "board.left(120)\n",
    "board.forward(100)\n",
    "\n",
    "board.left(120)\n",
    "board.forward(100)\n",
    "\n",
    "board.penup()\n",
    "board.right(150)\n",
    "board.forward(50)\n",
    "\n",
    "board.pendown()\n",
    "board.right(90)\n",
    "board.forward(100)\n",
    "\n",
    "board.right(120)\n",
    "board.forward(100)\n",
    "\n",
    "board.right(120)\n",
    "board.forward(100)\n",
    "\n",
    "turtle.done()\n",
    "\n",
    "\n",
    "\n",
    "\n"
   ]
  },
  {
   "cell_type": "code",
   "execution_count": null,
   "id": "ffbbaf75-9871-4dbc-a9f7-6f9ad13a4c9e",
   "metadata": {},
   "outputs": [],
   "source": []
  }
 ],
 "metadata": {
  "kernelspec": {
   "display_name": "Python 3 (ipykernel)",
   "language": "python",
   "name": "python3"
  },
  "language_info": {
   "codemirror_mode": {
    "name": "ipython",
    "version": 3
   },
   "file_extension": ".py",
   "mimetype": "text/x-python",
   "name": "python",
   "nbconvert_exporter": "python",
   "pygments_lexer": "ipython3",
   "version": "3.11.5"
  }
 },
 "nbformat": 4,
 "nbformat_minor": 5
}
